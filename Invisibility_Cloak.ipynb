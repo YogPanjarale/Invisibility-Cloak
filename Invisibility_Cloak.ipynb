{
  "nbformat": 4,
  "nbformat_minor": 0,
  "metadata": {
    "colab": {
      "name": "Invisibility Cloak.ipynb",
      "provenance": []
    },
    "kernelspec": {
      "name": "python391jvsc74a57bd063cfa557069a9a679efbe07b88cb412d19a981dda69d58c7135a4a25cea581b1",
      "display_name": "Python 3.9.1 64-bit"
    },
    "language_info": {
      "name": "python",
      "version": "3.9.1"
    },
    "metadata": {
      "interpreter": {
        "hash": "63cfa557069a9a679efbe07b88cb412d19a981dda69d58c7135a4a25cea581b1"
      }
    }
  },
  "cells": [
    {
      "source": [
        "Invisibility Cloak\n",
        "\n",
        "1. Color detection and segmentation\n",
        "2. Capture and store the background frame.\n",
        "3. Detect the red colored cloth using color detection and segmentation algorithm\n",
        "4. Segment out the red colored cloth by generating a mask.\n",
        "5. Generate the final augmented output to create a effect."
      ],
      "cell_type": "markdown",
      "metadata": {
        "id": "PX573RIWKo2S"
      }
    },
    {
      "cell_type": "code",
      "metadata": {
        "id": "HnIu_gaxKoMC"
      },
      "source": [
        "import cv2\n",
        "import numpy as np\n",
        "import time"
      ],
      "execution_count": null,
      "outputs": [
        {
          "output_type": "error",
          "ename": "Error",
          "evalue": "Pip module Unable to parse debugpy output, please log an issue with https://github.com/microsoft/vscode-jupyter is required for debugging cells. You will need to install it to debug cells.",
          "traceback": [
            "Error: Pip module Unable to parse debugpy output, please log an issue with https://github.com/microsoft/vscode-jupyter is required for debugging cells. You will need to install it to debug cells.",
            "at b.parseConnectInfo (c:\\Users\\Admin\\.vscode\\extensions\\ms-toolsai.jupyter-2021.5.745244803\\out\\client\\extension.js:49:478177)",
            "at b.connectToLocal (c:\\Users\\Admin\\.vscode\\extensions\\ms-toolsai.jupyter-2021.5.745244803\\out\\client\\extension.js:49:478704)",
            "at runMicrotasks (<anonymous>)",
            "at processTicksAndRejections (internal/process/task_queues.js:97:5)",
            "at async b.connect (c:\\Users\\Admin\\.vscode\\extensions\\ms-toolsai.jupyter-2021.5.745244803\\out\\client\\extension.js:49:476581)",
            "at async b.startDebugSession (c:\\Users\\Admin\\.vscode\\extensions\\ms-toolsai.jupyter-2021.5.745244803\\out\\client\\extension.js:49:475728)",
            "at async T.submitCode (c:\\Users\\Admin\\.vscode\\extensions\\ms-toolsai.jupyter-2021.5.745244803\\out\\client\\extension.js:32:663261)",
            "at async T.handleRunByLine (c:\\Users\\Admin\\.vscode\\extensions\\ms-toolsai.jupyter-2021.5.745244803\\out\\client\\extension.js:32:651205)"
          ]
        }
      ]
    },
    {
      "source": [
        "output = cv2.VideoWriter_fourcc(*'XVID')# converting to 4cc format\n",
        "#output\n",
        "oFile = cv2.VideoWriter('output2.avi',output,20.0,(640,480))\n",
        "\n",
        "capture = cv2.VideoCapture(0)# first camera\n",
        "time.sleep(2)#waiting for camera\n",
        "\n",
        "background = 0\n",
        "for i in range(60):\n",
        "  ret,background=capture.read()\n",
        "print(background)\n",
        "background=np.flip(background,axis=1)#inverting camera input\n",
        "\n",
        "while(capture.isOpened()):\n",
        "  ret,img = capture.read()\n",
        "  print(ret)\n",
        "  if not ret:\n",
        "    break\n",
        "  img= np.flip(img,axis=1)"
      ],
      "cell_type": "code",
      "metadata": {
        "colab": {
          "base_uri": "https://localhost:8080/",
          "height": 421
        },
        "id": "MhRc-ic6LpQ7",
        "outputId": "e838d9f4-3a40-4591-e09b-455abece1cc1"
      },
      "execution_count": null,
      "outputs": []
    },
    {
      "cell_type": "code",
      "execution_count": null,
      "metadata": {},
      "outputs": [],
      "source": [
        "print('hello world')"
      ]
    }
  ]
}